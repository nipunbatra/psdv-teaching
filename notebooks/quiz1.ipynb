{
 "cells": [
  {
   "cell_type": "raw",
   "metadata": {
    "vscode": {
     "languageId": "raw"
    }
   },
   "source": "---\nauthor: Nipun Batra\ntitle: Data Analysis Quiz - Pandas GroupBy Operations\ndescription: Practical exercises and quiz problems focusing on pandas groupby operations and data aggregation techniques\ncategories:\n  - Data Science\n  - Python\n  - Pandas\n  - Data Analysis\nkeywords: [pandas, groupby, data aggregation, quiz, exercises, data manipulation, python]\ndate: '2025-02-11'\nbadges: true\ntoc: true\n---"
  },
  {
   "cell_type": "code",
   "execution_count": null,
   "metadata": {},
   "outputs": [
    {
     "data": {
      "text/plain": [
       "array(['Sales', 'IT', 'HR', 'HR', 'IT', 'Sales', 'Finance', 'Sales',\n",
       "       'Finance', 'Sales'], dtype='<U7')"
      ]
     },
     "execution_count": 3,
     "metadata": {},
     "output_type": "execute_result"
    }
   ],
   "source": [
    "import pandas as pd\n",
    "import numpy as np\n",
    "\n",
    "\n",
    "num_rows = 10\n",
    "department = np.random.choice(['HR', 'IT', 'Finance','Sales'], num_rows)\n",
    "department"
   ]
  },
  {
   "cell_type": "markdown",
   "metadata": {},
   "source": [
    "# Data Analysis Quiz - Pandas GroupBy Operations\n",
    "\n",
    "## Introduction\n",
    "\n",
    "This notebook contains practical exercises focusing on **pandas GroupBy operations** - one of the most powerful features in pandas for data aggregation and analysis. These exercises will test your understanding of grouping data, applying functions, and extracting insights from grouped datasets.\n",
    "\n",
    "### Learning Objectives\n",
    "\n",
    "This quiz will assess your ability to:\n",
    "- Create and manipulate sample datasets with pandas\n",
    "- Apply GroupBy operations effectively\n",
    "- Use various aggregation functions (max, min, mean, etc.)\n",
    "- Access specific groups and their properties\n",
    "- Understand method chaining in pandas operations\n",
    "\n",
    "### Key Concepts Covered\n",
    "\n",
    "- **GroupBy Mechanics**: How pandas splits data into groups\n",
    "- **Aggregation Functions**: Computing summary statistics per group\n",
    "- **Group Selection**: Accessing specific groups and their data\n",
    "- **Method Syntax**: Different ways to call aggregation methods\n",
    "\n",
    "---\n",
    "\n",
    "## Problem Setup\n",
    "\n",
    "We'll work with a simulated employee dataset containing information about departments, employee IDs, salaries, and office locations."
   ]
  },
  {
   "cell_type": "code",
   "execution_count": 22,
   "metadata": {},
   "outputs": [],
   "source": [
    "location = np.random.choice(['Bangalore', 'Chennai', 'Hyderabad','Pune'], num_rows)"
   ]
  },
  {
   "cell_type": "code",
   "execution_count": 4,
   "metadata": {},
   "outputs": [],
   "source": [
    "employee_id = np.random.choice(range(1000, 2000), num_rows)"
   ]
  },
  {
   "cell_type": "code",
   "execution_count": 5,
   "metadata": {},
   "outputs": [
    {
     "data": {
      "text/plain": [
       "array([1372, 1109, 1981, 1185, 1502, 1073, 1291, 1058, 1648, 1401])"
      ]
     },
     "execution_count": 5,
     "metadata": {},
     "output_type": "execute_result"
    }
   ],
   "source": [
    "employee_id"
   ]
  },
  {
   "cell_type": "code",
   "execution_count": 7,
   "metadata": {},
   "outputs": [
    {
     "data": {
      "text/plain": [
       "array([41751, 43223, 49878, 45469, 50338, 53113, 70930, 37430, 53010,\n",
       "       52789])"
      ]
     },
     "execution_count": 7,
     "metadata": {},
     "output_type": "execute_result"
    }
   ],
   "source": [
    "salary = np.random.normal(50000, 10000, num_rows).astype(int)\n",
    "salary"
   ]
  },
  {
   "cell_type": "markdown",
   "metadata": {},
   "source": [
    "## Understanding the Dataset\n",
    "\n",
    "Let's examine our employee dataset. Notice the different departments, varying salaries, and multiple office locations. This diversity makes it perfect for practicing GroupBy operations."
   ]
  },
  {
   "cell_type": "markdown",
   "metadata": {},
   "source": [
    "## GroupBy Fundamentals\n",
    "\n",
    "### Creating a GroupBy Object\n",
    "\n",
    "When we call `df.groupby('department')`, pandas creates a GroupBy object that represents the data split into groups based on the specified column."
   ]
  },
  {
   "cell_type": "markdown",
   "metadata": {},
   "source": [
    "### Accessing Individual Groups\n",
    "\n",
    "The `get_group()` method allows us to extract data for a specific group. This is useful for examining subsets of your data."
   ]
  },
  {
   "cell_type": "code",
   "execution_count": 23,
   "metadata": {},
   "outputs": [],
   "source": [
    "df = pd.DataFrame({'department': department, \n",
    "                   'employee_id': employee_id, \n",
    "                   'salary': salary,\n",
    "                   'location': location})"
   ]
  },
  {
   "cell_type": "code",
   "execution_count": 24,
   "metadata": {},
   "outputs": [
    {
     "data": {
      "text/html": [
       "<div>\n",
       "<style scoped>\n",
       "    .dataframe tbody tr th:only-of-type {\n",
       "        vertical-align: middle;\n",
       "    }\n",
       "\n",
       "    .dataframe tbody tr th {\n",
       "        vertical-align: top;\n",
       "    }\n",
       "\n",
       "    .dataframe thead th {\n",
       "        text-align: right;\n",
       "    }\n",
       "</style>\n",
       "<table border=\"1\" class=\"dataframe\">\n",
       "  <thead>\n",
       "    <tr style=\"text-align: right;\">\n",
       "      <th></th>\n",
       "      <th>department</th>\n",
       "      <th>employee_id</th>\n",
       "      <th>salary</th>\n",
       "      <th>location</th>\n",
       "    </tr>\n",
       "  </thead>\n",
       "  <tbody>\n",
       "    <tr>\n",
       "      <th>0</th>\n",
       "      <td>Sales</td>\n",
       "      <td>1372</td>\n",
       "      <td>41751</td>\n",
       "      <td>Pune</td>\n",
       "    </tr>\n",
       "    <tr>\n",
       "      <th>1</th>\n",
       "      <td>IT</td>\n",
       "      <td>1109</td>\n",
       "      <td>43223</td>\n",
       "      <td>Chennai</td>\n",
       "    </tr>\n",
       "    <tr>\n",
       "      <th>2</th>\n",
       "      <td>HR</td>\n",
       "      <td>1981</td>\n",
       "      <td>49878</td>\n",
       "      <td>Bangalore</td>\n",
       "    </tr>\n",
       "    <tr>\n",
       "      <th>3</th>\n",
       "      <td>HR</td>\n",
       "      <td>1185</td>\n",
       "      <td>45469</td>\n",
       "      <td>Chennai</td>\n",
       "    </tr>\n",
       "    <tr>\n",
       "      <th>4</th>\n",
       "      <td>IT</td>\n",
       "      <td>1502</td>\n",
       "      <td>50338</td>\n",
       "      <td>Pune</td>\n",
       "    </tr>\n",
       "    <tr>\n",
       "      <th>5</th>\n",
       "      <td>Sales</td>\n",
       "      <td>1073</td>\n",
       "      <td>53113</td>\n",
       "      <td>Hyderabad</td>\n",
       "    </tr>\n",
       "    <tr>\n",
       "      <th>6</th>\n",
       "      <td>Finance</td>\n",
       "      <td>1291</td>\n",
       "      <td>70930</td>\n",
       "      <td>Chennai</td>\n",
       "    </tr>\n",
       "    <tr>\n",
       "      <th>7</th>\n",
       "      <td>Sales</td>\n",
       "      <td>1058</td>\n",
       "      <td>37430</td>\n",
       "      <td>Bangalore</td>\n",
       "    </tr>\n",
       "    <tr>\n",
       "      <th>8</th>\n",
       "      <td>Finance</td>\n",
       "      <td>1648</td>\n",
       "      <td>53010</td>\n",
       "      <td>Chennai</td>\n",
       "    </tr>\n",
       "    <tr>\n",
       "      <th>9</th>\n",
       "      <td>Sales</td>\n",
       "      <td>1401</td>\n",
       "      <td>52789</td>\n",
       "      <td>Pune</td>\n",
       "    </tr>\n",
       "  </tbody>\n",
       "</table>\n",
       "</div>"
      ],
      "text/plain": [
       "  department  employee_id  salary   location\n",
       "0      Sales         1372   41751       Pune\n",
       "1         IT         1109   43223    Chennai\n",
       "2         HR         1981   49878  Bangalore\n",
       "3         HR         1185   45469    Chennai\n",
       "4         IT         1502   50338       Pune\n",
       "5      Sales         1073   53113  Hyderabad\n",
       "6    Finance         1291   70930    Chennai\n",
       "7      Sales         1058   37430  Bangalore\n",
       "8    Finance         1648   53010    Chennai\n",
       "9      Sales         1401   52789       Pune"
      ]
     },
     "execution_count": 24,
     "metadata": {},
     "output_type": "execute_result"
    }
   ],
   "source": [
    "df"
   ]
  },
  {
   "cell_type": "markdown",
   "metadata": {},
   "source": [
    "## Aggregation Methods\n",
    "\n",
    "### Understanding Different Aggregation Approaches\n",
    "\n",
    "Pandas provides multiple ways to apply aggregation functions to grouped data. Let's explore the different syntaxes and their implications."
   ]
  },
  {
   "cell_type": "markdown",
   "metadata": {},
   "source": [
    "### Controlling Numeric vs. All Columns\n",
    "\n",
    "The `numeric_only` parameter helps control which columns are included in aggregation operations."
   ]
  },
  {
   "cell_type": "code",
   "execution_count": 25,
   "metadata": {},
   "outputs": [],
   "source": [
    "g = df.groupby('department')"
   ]
  },
  {
   "cell_type": "markdown",
   "metadata": {},
   "source": [
    "### Column-Specific Aggregation\n",
    "\n",
    "Different syntax approaches for focusing on specific columns during aggregation."
   ]
  },
  {
   "cell_type": "code",
   "execution_count": 26,
   "metadata": {},
   "outputs": [
    {
     "data": {
      "text/html": [
       "<div>\n",
       "<style scoped>\n",
       "    .dataframe tbody tr th:only-of-type {\n",
       "        vertical-align: middle;\n",
       "    }\n",
       "\n",
       "    .dataframe tbody tr th {\n",
       "        vertical-align: top;\n",
       "    }\n",
       "\n",
       "    .dataframe thead th {\n",
       "        text-align: right;\n",
       "    }\n",
       "</style>\n",
       "<table border=\"1\" class=\"dataframe\">\n",
       "  <thead>\n",
       "    <tr style=\"text-align: right;\">\n",
       "      <th></th>\n",
       "      <th>department</th>\n",
       "      <th>employee_id</th>\n",
       "      <th>salary</th>\n",
       "      <th>location</th>\n",
       "    </tr>\n",
       "  </thead>\n",
       "  <tbody>\n",
       "    <tr>\n",
       "      <th>2</th>\n",
       "      <td>HR</td>\n",
       "      <td>1981</td>\n",
       "      <td>49878</td>\n",
       "      <td>Bangalore</td>\n",
       "    </tr>\n",
       "    <tr>\n",
       "      <th>3</th>\n",
       "      <td>HR</td>\n",
       "      <td>1185</td>\n",
       "      <td>45469</td>\n",
       "      <td>Chennai</td>\n",
       "    </tr>\n",
       "  </tbody>\n",
       "</table>\n",
       "</div>"
      ],
      "text/plain": [
       "  department  employee_id  salary   location\n",
       "2         HR         1981   49878  Bangalore\n",
       "3         HR         1185   45469    Chennai"
      ]
     },
     "execution_count": 26,
     "metadata": {},
     "output_type": "execute_result"
    }
   ],
   "source": [
    "g.get_group('HR')"
   ]
  },
  {
   "cell_type": "markdown",
   "metadata": {},
   "source": [
    "### Exploring Method Documentation\n",
    "\n",
    "Understanding the parameters and options available for aggregation methods is crucial for effective data analysis."
   ]
  },
  {
   "cell_type": "markdown",
   "metadata": {},
   "source": [
    "## Key Learning Points\n",
    "\n",
    "### GroupBy Operation Summary\n",
    "\n",
    "From this exercise, we've learned several important concepts:\n",
    "\n",
    "1. **GroupBy Object Creation**: `df.groupby('column')` splits data into groups\n",
    "2. **Group Access**: `get_group('group_name')` retrieves specific group data  \n",
    "3. **Aggregation Methods**: Multiple ways to apply functions like `max()`, `min()`, `mean()`\n",
    "4. **Column Selection**: Different syntax for targeting specific columns\n",
    "5. **Parameter Control**: Using `numeric_only` to control which columns are processed\n",
    "\n",
    "### Practical Applications\n",
    "\n",
    "GroupBy operations are fundamental for:\n",
    "- **Business Analytics**: Analyzing performance by department, region, or time period\n",
    "- **Scientific Research**: Grouping experimental data by conditions or categories  \n",
    "- **Financial Analysis**: Summarizing transactions by account, date, or category\n",
    "- **Marketing**: Analyzing customer behavior by demographics or segments\n",
    "\n",
    "### Best Practices\n",
    "\n",
    "1. **Understand Your Data**: Know the structure before grouping\n",
    "2. **Choose Appropriate Aggregations**: Select functions that make sense for your analysis\n",
    "3. **Handle Missing Data**: Consider how NaN values affect your groupings\n",
    "4. **Performance**: For large datasets, consider using vectorized operations\n",
    "5. **Readability**: Use clear, descriptive group column names\n",
    "\n",
    "### Further Exploration\n",
    "\n",
    "To deepen your GroupBy skills, explore:\n",
    "- Multiple column grouping: `df.groupby(['col1', 'col2'])`\n",
    "- Custom aggregation functions with `agg()`\n",
    "- Transformation operations with `transform()`\n",
    "- Filtering groups with `filter()`\n",
    "- Advanced indexing with grouped data"
   ]
  },
  {
   "cell_type": "code",
   "execution_count": 27,
   "metadata": {},
   "outputs": [
    {
     "data": {
      "text/html": [
       "<div>\n",
       "<style scoped>\n",
       "    .dataframe tbody tr th:only-of-type {\n",
       "        vertical-align: middle;\n",
       "    }\n",
       "\n",
       "    .dataframe tbody tr th {\n",
       "        vertical-align: top;\n",
       "    }\n",
       "\n",
       "    .dataframe thead th {\n",
       "        text-align: right;\n",
       "    }\n",
       "</style>\n",
       "<table border=\"1\" class=\"dataframe\">\n",
       "  <thead>\n",
       "    <tr style=\"text-align: right;\">\n",
       "      <th></th>\n",
       "      <th>department</th>\n",
       "      <th>employee_id</th>\n",
       "      <th>salary</th>\n",
       "      <th>location</th>\n",
       "    </tr>\n",
       "  </thead>\n",
       "  <tbody>\n",
       "    <tr>\n",
       "      <th>0</th>\n",
       "      <td>Sales</td>\n",
       "      <td>1372</td>\n",
       "      <td>41751</td>\n",
       "      <td>Pune</td>\n",
       "    </tr>\n",
       "    <tr>\n",
       "      <th>5</th>\n",
       "      <td>Sales</td>\n",
       "      <td>1073</td>\n",
       "      <td>53113</td>\n",
       "      <td>Hyderabad</td>\n",
       "    </tr>\n",
       "    <tr>\n",
       "      <th>7</th>\n",
       "      <td>Sales</td>\n",
       "      <td>1058</td>\n",
       "      <td>37430</td>\n",
       "      <td>Bangalore</td>\n",
       "    </tr>\n",
       "    <tr>\n",
       "      <th>9</th>\n",
       "      <td>Sales</td>\n",
       "      <td>1401</td>\n",
       "      <td>52789</td>\n",
       "      <td>Pune</td>\n",
       "    </tr>\n",
       "  </tbody>\n",
       "</table>\n",
       "</div>"
      ],
      "text/plain": [
       "  department  employee_id  salary   location\n",
       "0      Sales         1372   41751       Pune\n",
       "5      Sales         1073   53113  Hyderabad\n",
       "7      Sales         1058   37430  Bangalore\n",
       "9      Sales         1401   52789       Pune"
      ]
     },
     "execution_count": 27,
     "metadata": {},
     "output_type": "execute_result"
    }
   ],
   "source": [
    "g.get_group('Sales')"
   ]
  },
  {
   "cell_type": "code",
   "execution_count": 28,
   "metadata": {},
   "outputs": [
    {
     "data": {
      "text/html": [
       "<div>\n",
       "<style scoped>\n",
       "    .dataframe tbody tr th:only-of-type {\n",
       "        vertical-align: middle;\n",
       "    }\n",
       "\n",
       "    .dataframe tbody tr th {\n",
       "        vertical-align: top;\n",
       "    }\n",
       "\n",
       "    .dataframe thead th {\n",
       "        text-align: right;\n",
       "    }\n",
       "</style>\n",
       "<table border=\"1\" class=\"dataframe\">\n",
       "  <thead>\n",
       "    <tr style=\"text-align: right;\">\n",
       "      <th></th>\n",
       "      <th>department</th>\n",
       "      <th>employee_id</th>\n",
       "      <th>salary</th>\n",
       "      <th>location</th>\n",
       "    </tr>\n",
       "  </thead>\n",
       "  <tbody>\n",
       "    <tr>\n",
       "      <th>1</th>\n",
       "      <td>IT</td>\n",
       "      <td>1109</td>\n",
       "      <td>43223</td>\n",
       "      <td>Chennai</td>\n",
       "    </tr>\n",
       "    <tr>\n",
       "      <th>4</th>\n",
       "      <td>IT</td>\n",
       "      <td>1502</td>\n",
       "      <td>50338</td>\n",
       "      <td>Pune</td>\n",
       "    </tr>\n",
       "  </tbody>\n",
       "</table>\n",
       "</div>"
      ],
      "text/plain": [
       "  department  employee_id  salary location\n",
       "1         IT         1109   43223  Chennai\n",
       "4         IT         1502   50338     Pune"
      ]
     },
     "execution_count": 28,
     "metadata": {},
     "output_type": "execute_result"
    }
   ],
   "source": [
    "g.get_group('IT')"
   ]
  },
  {
   "cell_type": "code",
   "execution_count": 30,
   "metadata": {},
   "outputs": [
    {
     "data": {
      "text/html": [
       "<div>\n",
       "<style scoped>\n",
       "    .dataframe tbody tr th:only-of-type {\n",
       "        vertical-align: middle;\n",
       "    }\n",
       "\n",
       "    .dataframe tbody tr th {\n",
       "        vertical-align: top;\n",
       "    }\n",
       "\n",
       "    .dataframe thead th {\n",
       "        text-align: right;\n",
       "    }\n",
       "</style>\n",
       "<table border=\"1\" class=\"dataframe\">\n",
       "  <thead>\n",
       "    <tr style=\"text-align: right;\">\n",
       "      <th></th>\n",
       "      <th>employee_id</th>\n",
       "      <th>salary</th>\n",
       "      <th>location</th>\n",
       "    </tr>\n",
       "    <tr>\n",
       "      <th>department</th>\n",
       "      <th></th>\n",
       "      <th></th>\n",
       "      <th></th>\n",
       "    </tr>\n",
       "  </thead>\n",
       "  <tbody>\n",
       "    <tr>\n",
       "      <th>Finance</th>\n",
       "      <td>1648</td>\n",
       "      <td>70930</td>\n",
       "      <td>Chennai</td>\n",
       "    </tr>\n",
       "    <tr>\n",
       "      <th>HR</th>\n",
       "      <td>1981</td>\n",
       "      <td>49878</td>\n",
       "      <td>Chennai</td>\n",
       "    </tr>\n",
       "    <tr>\n",
       "      <th>IT</th>\n",
       "      <td>1502</td>\n",
       "      <td>50338</td>\n",
       "      <td>Pune</td>\n",
       "    </tr>\n",
       "    <tr>\n",
       "      <th>Sales</th>\n",
       "      <td>1401</td>\n",
       "      <td>53113</td>\n",
       "      <td>Pune</td>\n",
       "    </tr>\n",
       "  </tbody>\n",
       "</table>\n",
       "</div>"
      ],
      "text/plain": [
       "            employee_id  salary location\n",
       "department                              \n",
       "Finance            1648   70930  Chennai\n",
       "HR                 1981   49878  Chennai\n",
       "IT                 1502   50338     Pune\n",
       "Sales              1401   53113     Pune"
      ]
     },
     "execution_count": 30,
     "metadata": {},
     "output_type": "execute_result"
    }
   ],
   "source": [
    "g.max()"
   ]
  },
  {
   "cell_type": "code",
   "execution_count": 31,
   "metadata": {},
   "outputs": [
    {
     "data": {
      "text/html": [
       "<div>\n",
       "<style scoped>\n",
       "    .dataframe tbody tr th:only-of-type {\n",
       "        vertical-align: middle;\n",
       "    }\n",
       "\n",
       "    .dataframe tbody tr th {\n",
       "        vertical-align: top;\n",
       "    }\n",
       "\n",
       "    .dataframe thead th {\n",
       "        text-align: right;\n",
       "    }\n",
       "</style>\n",
       "<table border=\"1\" class=\"dataframe\">\n",
       "  <thead>\n",
       "    <tr style=\"text-align: right;\">\n",
       "      <th></th>\n",
       "      <th>employee_id</th>\n",
       "      <th>salary</th>\n",
       "    </tr>\n",
       "    <tr>\n",
       "      <th>department</th>\n",
       "      <th></th>\n",
       "      <th></th>\n",
       "    </tr>\n",
       "  </thead>\n",
       "  <tbody>\n",
       "    <tr>\n",
       "      <th>Finance</th>\n",
       "      <td>1648</td>\n",
       "      <td>70930</td>\n",
       "    </tr>\n",
       "    <tr>\n",
       "      <th>HR</th>\n",
       "      <td>1981</td>\n",
       "      <td>49878</td>\n",
       "    </tr>\n",
       "    <tr>\n",
       "      <th>IT</th>\n",
       "      <td>1502</td>\n",
       "      <td>50338</td>\n",
       "    </tr>\n",
       "    <tr>\n",
       "      <th>Sales</th>\n",
       "      <td>1401</td>\n",
       "      <td>53113</td>\n",
       "    </tr>\n",
       "  </tbody>\n",
       "</table>\n",
       "</div>"
      ],
      "text/plain": [
       "            employee_id  salary\n",
       "department                     \n",
       "Finance            1648   70930\n",
       "HR                 1981   49878\n",
       "IT                 1502   50338\n",
       "Sales              1401   53113"
      ]
     },
     "execution_count": 31,
     "metadata": {},
     "output_type": "execute_result"
    }
   ],
   "source": [
    "g.max(numeric_only=True)"
   ]
  },
  {
   "cell_type": "code",
   "execution_count": 32,
   "metadata": {},
   "outputs": [
    {
     "data": {
      "text/html": [
       "<div>\n",
       "<style scoped>\n",
       "    .dataframe tbody tr th:only-of-type {\n",
       "        vertical-align: middle;\n",
       "    }\n",
       "\n",
       "    .dataframe tbody tr th {\n",
       "        vertical-align: top;\n",
       "    }\n",
       "\n",
       "    .dataframe thead th {\n",
       "        text-align: right;\n",
       "    }\n",
       "</style>\n",
       "<table border=\"1\" class=\"dataframe\">\n",
       "  <thead>\n",
       "    <tr style=\"text-align: right;\">\n",
       "      <th></th>\n",
       "      <th>employee_id</th>\n",
       "      <th>salary</th>\n",
       "    </tr>\n",
       "    <tr>\n",
       "      <th>department</th>\n",
       "      <th></th>\n",
       "      <th></th>\n",
       "    </tr>\n",
       "  </thead>\n",
       "  <tbody>\n",
       "    <tr>\n",
       "      <th>Finance</th>\n",
       "      <td>1648</td>\n",
       "      <td>70930</td>\n",
       "    </tr>\n",
       "    <tr>\n",
       "      <th>HR</th>\n",
       "      <td>1981</td>\n",
       "      <td>49878</td>\n",
       "    </tr>\n",
       "    <tr>\n",
       "      <th>IT</th>\n",
       "      <td>1502</td>\n",
       "      <td>50338</td>\n",
       "    </tr>\n",
       "    <tr>\n",
       "      <th>Sales</th>\n",
       "      <td>1401</td>\n",
       "      <td>53113</td>\n",
       "    </tr>\n",
       "  </tbody>\n",
       "</table>\n",
       "</div>"
      ],
      "text/plain": [
       "            employee_id  salary\n",
       "department                     \n",
       "Finance            1648   70930\n",
       "HR                 1981   49878\n",
       "IT                 1502   50338\n",
       "Sales              1401   53113"
      ]
     },
     "execution_count": 32,
     "metadata": {},
     "output_type": "execute_result"
    }
   ],
   "source": [
    "g.max('salary')"
   ]
  },
  {
   "cell_type": "code",
   "execution_count": null,
   "metadata": {},
   "outputs": [
    {
     "data": {
      "text/plain": [
       "department\n",
       "Finance    70930\n",
       "HR         49878\n",
       "IT         50338\n",
       "Sales      53113\n",
       "Name: salary, dtype: int64"
      ]
     },
     "execution_count": 19,
     "metadata": {},
     "output_type": "execute_result"
    }
   ],
   "source": [
    "g['salary'].max()"
   ]
  },
  {
   "cell_type": "code",
   "execution_count": 33,
   "metadata": {},
   "outputs": [
    {
     "data": {
      "text/plain": [
       "department\n",
       "Finance    70930\n",
       "HR         49878\n",
       "IT         50338\n",
       "Sales      53113\n",
       "Name: salary, dtype: int64"
      ]
     },
     "execution_count": 33,
     "metadata": {},
     "output_type": "execute_result"
    }
   ],
   "source": [
    "g.max()['salary']"
   ]
  },
  {
   "cell_type": "code",
   "execution_count": 21,
   "metadata": {},
   "outputs": [
    {
     "name": "stdout",
     "output_type": "stream",
     "text": [
      "\u001b[0;31mSignature:\u001b[0m\n",
      "\u001b[0mg\u001b[0m\u001b[0;34m.\u001b[0m\u001b[0mmax\u001b[0m\u001b[0;34m(\u001b[0m\u001b[0;34m\u001b[0m\n",
      "\u001b[0;34m\u001b[0m    \u001b[0mnumeric_only\u001b[0m\u001b[0;34m:\u001b[0m \u001b[0;34m'bool'\u001b[0m \u001b[0;34m=\u001b[0m \u001b[0;32mFalse\u001b[0m\u001b[0;34m,\u001b[0m\u001b[0;34m\u001b[0m\n",
      "\u001b[0;34m\u001b[0m    \u001b[0mmin_count\u001b[0m\u001b[0;34m:\u001b[0m \u001b[0;34m'int'\u001b[0m \u001b[0;34m=\u001b[0m \u001b[0;34m-\u001b[0m\u001b[0;36m1\u001b[0m\u001b[0;34m,\u001b[0m\u001b[0;34m\u001b[0m\n",
      "\u001b[0;34m\u001b[0m    \u001b[0mengine\u001b[0m\u001b[0;34m:\u001b[0m \u001b[0;34m\"Literal['cython', 'numba'] | None\"\u001b[0m \u001b[0;34m=\u001b[0m \u001b[0;32mNone\u001b[0m\u001b[0;34m,\u001b[0m\u001b[0;34m\u001b[0m\n",
      "\u001b[0;34m\u001b[0m    \u001b[0mengine_kwargs\u001b[0m\u001b[0;34m:\u001b[0m \u001b[0;34m'dict[str, bool] | None'\u001b[0m \u001b[0;34m=\u001b[0m \u001b[0;32mNone\u001b[0m\u001b[0;34m,\u001b[0m\u001b[0;34m\u001b[0m\n",
      "\u001b[0;34m\u001b[0m\u001b[0;34m)\u001b[0m\u001b[0;34m\u001b[0m\u001b[0;34m\u001b[0m\u001b[0m\n",
      "\u001b[0;31mDocstring:\u001b[0m\n",
      "Compute max of group values.\n",
      "\n",
      "Parameters\n",
      "----------\n",
      "numeric_only : bool, default False\n",
      "    Include only float, int, boolean columns.\n",
      "\n",
      "    .. versionchanged:: 2.0.0\n",
      "\n",
      "        numeric_only no longer accepts ``None``.\n",
      "\n",
      "min_count : int, default -1\n",
      "    The required number of valid values to perform the operation. If fewer\n",
      "    than ``min_count`` non-NA values are present the result will be NA.\n",
      "\n",
      "engine : str, default None None\n",
      "    * ``'cython'`` : Runs rolling apply through C-extensions from cython.\n",
      "    * ``'numba'`` : Runs rolling apply through JIT compiled code from numba.\n",
      "        Only available when ``raw`` is set to ``True``.\n",
      "    * ``None`` : Defaults to ``'cython'`` or globally setting ``compute.use_numba``\n",
      "\n",
      "engine_kwargs : dict, default None None\n",
      "    * For ``'cython'`` engine, there are no accepted ``engine_kwargs``\n",
      "    * For ``'numba'`` engine, the engine can accept ``nopython``, ``nogil``\n",
      "        and ``parallel`` dictionary keys. The values must either be ``True`` or\n",
      "        ``False``. The default ``engine_kwargs`` for the ``'numba'`` engine is\n",
      "        ``{'nopython': True, 'nogil': False, 'parallel': False}`` and will be\n",
      "        applied to both the ``func`` and the ``apply`` groupby aggregation.\n",
      "\n",
      "Returns\n",
      "-------\n",
      "Series or DataFrame\n",
      "    Computed max of values within each group.\n",
      "\n",
      "Examples\n",
      "--------\n",
      "For SeriesGroupBy:\n",
      "\n",
      ">>> lst = ['a', 'a', 'b', 'b']\n",
      ">>> ser = pd.Series([1, 2, 3, 4], index=lst)\n",
      ">>> ser\n",
      "a    1\n",
      "a    2\n",
      "b    3\n",
      "b    4\n",
      "dtype: int64\n",
      ">>> ser.groupby(level=0).max()\n",
      "a    2\n",
      "b    4\n",
      "dtype: int64\n",
      "\n",
      "For DataFrameGroupBy:\n",
      "\n",
      ">>> data = [[1, 8, 2], [1, 2, 5], [2, 5, 8], [2, 6, 9]]\n",
      ">>> df = pd.DataFrame(data, columns=[\"a\", \"b\", \"c\"],\n",
      "...                   index=[\"tiger\", \"leopard\", \"cheetah\", \"lion\"])\n",
      ">>> df\n",
      "          a  b  c\n",
      "  tiger   1  8  2\n",
      "leopard   1  2  5\n",
      "cheetah   2  5  8\n",
      "   lion   2  6  9\n",
      ">>> df.groupby(\"a\").max()\n",
      "    b  c\n",
      "a\n",
      "1   8  5\n",
      "2   6  9\n",
      "\u001b[0;31mFile:\u001b[0m      ~/mambaforge/lib/python3.12/site-packages/pandas/core/groupby/groupby.py\n",
      "\u001b[0;31mType:\u001b[0m      method"
     ]
    }
   ],
   "source": [
    "g.max?"
   ]
  },
  {
   "cell_type": "code",
   "execution_count": null,
   "metadata": {},
   "outputs": [],
   "source": []
  }
 ],
 "metadata": {
  "kernelspec": {
   "display_name": "base",
   "language": "python",
   "name": "python3"
  },
  "language_info": {
   "codemirror_mode": {
    "name": "ipython",
    "version": 3
   },
   "file_extension": ".py",
   "mimetype": "text/x-python",
   "name": "python",
   "nbconvert_exporter": "python",
   "pygments_lexer": "ipython3",
   "version": "3.12.7"
  }
 },
 "nbformat": 4,
 "nbformat_minor": 2
}
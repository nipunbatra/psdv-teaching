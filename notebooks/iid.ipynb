{
 "cells": [
  {
   "cell_type": "raw",
   "metadata": {
    "vscode": {
     "languageId": "raw"
    }
   },
   "source": "---\nauthor: Nipun Batra\ntitle: Independent and Identically Distributed (i.i.d) Random Variables\ndescription: Understanding the concept of independent and identically distributed random variables, their properties, and applications in probability theory and statistics\ncategories:\n  - Probability\n  - Statistics\n  - Random Variables\n  - Mathematics\nkeywords: [independent, identically distributed, iid, random variables, joint probability, normal distribution]\ndate: '2025-01-13'\nbadges: true\ntoc: true\n---"
  },
  {
   "cell_type": "code",
   "execution_count": 1,
   "metadata": {},
   "outputs": [
    {
     "name": "stdout",
     "output_type": "stream",
     "text": [
      "2.2.4\n"
     ]
    }
   ],
   "source": [
    "import matplotlib.pyplot as plt\n",
    "import numpy as np\n",
    "print(np.__version__)\n",
    "import torch \n",
    "import torch.nn as nn\n",
    "\n",
    "import pandas as pd\n",
    "# Retina mode\n",
    "%matplotlib inline\n",
    "%config InlineBackend.figure_format = 'retina'"
   ]
  },
  {
   "cell_type": "code",
   "execution_count": 2,
   "metadata": {},
   "outputs": [],
   "source": [
    "X1 = torch.distributions.Normal(0, 1)\n",
    "X2 = torch.distributions.Normal(0, 1)"
   ]
  },
  {
   "cell_type": "code",
   "execution_count": 3,
   "metadata": {},
   "outputs": [],
   "source": [
    "# say sample is\n",
    "sample = torch.tensor([0.2, 0.4])"
   ]
  },
  {
   "cell_type": "code",
   "execution_count": 5,
   "metadata": {},
   "outputs": [
    {
     "name": "stdout",
     "output_type": "stream",
     "text": [
      "tensor(0.3910) tensor(0.3683)\n"
     ]
    }
   ],
   "source": [
    "P_X_x1_ = X1.log_prob(sample[0]).exp()\n",
    "P_X_x2_ = X2.log_prob(sample[1]).exp()\n",
    "\n",
    "print(P_X_x1_, P_X_x2_)"
   ]
  },
  {
   "cell_type": "code",
   "execution_count": 6,
   "metadata": {},
   "outputs": [
    {
     "name": "stdout",
     "output_type": "stream",
     "text": [
      "tensor(0.1440)\n"
     ]
    }
   ],
   "source": [
    "joint_pdf = P_X_x1_ * P_X_x2_\n",
    "print(joint_pdf)"
   ]
  }
 ],
 "metadata": {
  "kernelspec": {
   "display_name": "base",
   "language": "python",
   "name": "python3"
  },
  "language_info": {
   "codemirror_mode": {
    "name": "ipython",
    "version": 3
   },
   "file_extension": ".py",
   "mimetype": "text/x-python",
   "name": "python",
   "nbconvert_exporter": "python",
   "pygments_lexer": "ipython3",
   "version": "3.12.9"
  }
 },
 "nbformat": 4,
 "nbformat_minor": 2
}
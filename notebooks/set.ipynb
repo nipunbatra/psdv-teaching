{
 "cells": [
  {
   "cell_type": "raw",
   "metadata": {
    "vscode": {
     "languageId": "raw"
    }
   },
   "source": [
    "---\n",
    "author: Nipun Batra\n",
    "badges: true\n",
    "categories:\n",
    "- ML\n",
    "date: '2024-12-7'\n",
    "title: Set\n",
    "toc: true\n",
    "\n",
    "---\n"
   ]
  },
  {
   "cell_type": "code",
   "execution_count": 58,
   "metadata": {},
   "outputs": [],
   "source": [
    "import matplotlib.pyplot as plt\n",
    "import numpy as np\n",
    "import torch \n",
    "import pandas as pd\n",
    "# Retina mode\n",
    "%matplotlib inline\n",
    "%config InlineBackend.figure_format = 'retina'"
   ]
  },
  {
   "cell_type": "code",
   "execution_count": 2,
   "metadata": {},
   "outputs": [
    {
     "name": "stdout",
     "output_type": "stream",
     "text": [
      "Union: {1, 2, 3, 4, 5, 6, 7, 8, 9, 10}\n"
     ]
    }
   ],
   "source": [
    "Set_A = set([1,2,3,4,5,6,7,8,9,10])\n",
    "Set_B = set([2,4,6,8,10])\n",
    "\n",
    "# Union\n",
    "Union = Set_A.union(Set_B)\n",
    "print('Union:', Union)"
   ]
  },
  {
   "cell_type": "code",
   "execution_count": 3,
   "metadata": {},
   "outputs": [
    {
     "name": "stdout",
     "output_type": "stream",
     "text": [
      "Intersection: {2, 4, 6, 8, 10}\n"
     ]
    }
   ],
   "source": [
    "# Intersection\n",
    "Intersection = Set_A.intersection(Set_B)\n",
    "print('Intersection:', Intersection)"
   ]
  },
  {
   "cell_type": "code",
   "execution_count": 4,
   "metadata": {},
   "outputs": [
    {
     "name": "stdout",
     "output_type": "stream",
     "text": [
      "Difference: {1, 3, 5, 7, 9}\n"
     ]
    }
   ],
   "source": [
    "# Difference\n",
    "Difference = Set_A.difference(Set_B)\n",
    "print('Difference:', Difference)"
   ]
  },
  {
   "cell_type": "code",
   "execution_count": 5,
   "metadata": {},
   "outputs": [
    {
     "data": {
      "text/plain": [
       "set()"
      ]
     },
     "execution_count": 5,
     "metadata": {},
     "output_type": "execute_result"
    }
   ],
   "source": [
    "Set_B.difference(Set_A)"
   ]
  },
  {
   "cell_type": "code",
   "execution_count": 6,
   "metadata": {},
   "outputs": [
    {
     "data": {
      "text/plain": [
       "False"
      ]
     },
     "execution_count": 6,
     "metadata": {},
     "output_type": "execute_result"
    }
   ],
   "source": [
    "Set_A.issubset(Set_B)"
   ]
  },
  {
   "cell_type": "code",
   "execution_count": 7,
   "metadata": {},
   "outputs": [
    {
     "data": {
      "text/plain": [
       "True"
      ]
     },
     "execution_count": 7,
     "metadata": {},
     "output_type": "execute_result"
    }
   ],
   "source": [
    "Set_B.issubset(Set_A)"
   ]
  },
  {
   "cell_type": "code",
   "execution_count": 8,
   "metadata": {},
   "outputs": [],
   "source": [
    "def is_subset(set_a, set_b):\n",
    "    \"\"\"\n",
    "    set_a: set\n",
    "    set_b: set\n",
    "    ---\n",
    "    return: True if set_a is a subset of set_b, False otherwise\n",
    "    \"\"\"\n",
    "    assert isinstance(set_a, set), 'set_a must be a set'\n",
    "    assert isinstance(set_b, set), 'set_b must be a set'\n",
    "    \n",
    "    # Loop through all elements in set_a and check if they are in set_b\n",
    "    subset = True\n",
    "    for element in set_a:\n",
    "        if element in set_b:\n",
    "            continue\n",
    "        else:\n",
    "            subset = False\n",
    "            break\n",
    "    return subset"
   ]
  },
  {
   "cell_type": "code",
   "execution_count": 9,
   "metadata": {},
   "outputs": [
    {
     "data": {
      "text/plain": [
       "False"
      ]
     },
     "execution_count": 9,
     "metadata": {},
     "output_type": "execute_result"
    }
   ],
   "source": [
    "is_subset(Set_A, Set_B)"
   ]
  },
  {
   "cell_type": "code",
   "execution_count": 10,
   "metadata": {},
   "outputs": [
    {
     "data": {
      "text/plain": [
       "True"
      ]
     },
     "execution_count": 10,
     "metadata": {},
     "output_type": "execute_result"
    }
   ],
   "source": [
    "is_subset(Set_B, Set_A)"
   ]
  },
  {
   "cell_type": "markdown",
   "metadata": {},
   "source": [
    "# Set and Mutability\n",
    "In Python, sets require their elements to be hashable. This is because sets rely on hashing to determine membership and handle uniqueness. Hashable objects must meet two criteria:\n",
    "\n",
    "- Immutability: The object should not change after it is created.\n",
    "- Defined hash: The object must have a hash value, which is a unique identifier used by Python to store and compare the object in a set or dictionary.\n",
    "\n",
    "Why Lists Cannot Be Used in Sets\n",
    "Lists are mutable (i.e., they can be changed after they are created). When you try to use a mutable object like a list as an element in a set, Python raises the TypeError: unhashable type: 'list' error. This happens because Python cannot guarantee that the contents of the list won't change, which would affect its identity and make it unreliable as a key in a set.\n"
   ]
  },
  {
   "cell_type": "code",
   "execution_count": 20,
   "metadata": {},
   "outputs": [],
   "source": [
    "set_a = {1}"
   ]
  },
  {
   "cell_type": "code",
   "execution_count": 23,
   "metadata": {},
   "outputs": [
    {
     "ename": "TypeError",
     "evalue": "unhashable type: 'list'",
     "output_type": "error",
     "traceback": [
      "\u001b[0;31m---------------------------------------------------------------------------\u001b[0m",
      "\u001b[0;31mTypeError\u001b[0m                                 Traceback (most recent call last)",
      "Cell \u001b[0;32mIn[23], line 2\u001b[0m\n\u001b[1;32m      1\u001b[0m li \u001b[38;5;241m=\u001b[39m [\u001b[38;5;241m1\u001b[39m, \u001b[38;5;241m2\u001b[39m, \u001b[38;5;241m3\u001b[39m, \u001b[38;5;241m4\u001b[39m, \u001b[38;5;241m5\u001b[39m]\n\u001b[0;32m----> 2\u001b[0m set_b \u001b[38;5;241m=\u001b[39m {li}\n",
      "\u001b[0;31mTypeError\u001b[0m: unhashable type: 'list'"
     ]
    }
   ],
   "source": [
    "li = [1, 2, 3, 4, 5]\n",
    "set_b = {li}"
   ]
  },
  {
   "cell_type": "code",
   "execution_count": 25,
   "metadata": {},
   "outputs": [
    {
     "name": "stdout",
     "output_type": "stream",
     "text": [
      "frozenset({1, 2, 3, 4, 5})\n",
      "frozenset({1, 2, 3, 4, 5})\n"
     ]
    }
   ],
   "source": [
    "set_c = frozenset(li)\n",
    "print(set_c)\n",
    "li.append(6)\n",
    "print(set_c)"
   ]
  },
  {
   "cell_type": "code",
   "execution_count": 17,
   "metadata": {},
   "outputs": [
    {
     "name": "stdout",
     "output_type": "stream",
     "text": [
      "[[]]\n",
      "[[], ['B'], ['R'], ['G']]\n",
      "[[], ['B'], ['R'], ['G'], ['B', 'R'], ['B', 'G'], ['R', 'G']]\n",
      "[[], ['B'], ['R'], ['G'], ['B', 'R'], ['B', 'G'], ['R', 'G'], ['B', 'R', 'G']]\n"
     ]
    }
   ],
   "source": [
    "# List all subsets\n",
    "original_set = {\"R\", \"G\", \"B\"}\n",
    "\n",
    "original_list = list(original_set)\n",
    "\n",
    "subsets = []\n",
    "\n",
    "\n",
    "# Subset of size 0\n",
    "subsets.append([])\n",
    "print(subsets)\n",
    "\n",
    "# Subset of size 1\n",
    "for element in original_list:\n",
    "    subsets.append([element])\n",
    "print(subsets)    \n",
    "\n",
    "# Subset of size 2\n",
    "for i in range(len(original_list)):\n",
    "    for j in range(i+1, len(original_list)):\n",
    "        subsets.append([original_list[i], original_list[j]])\n",
    "print(subsets)\n",
    "\n",
    "# Subset of size 3\n",
    "for i in range(len(original_list)):\n",
    "    for j in range(i+1, len(original_list)):\n",
    "        for k in range(j+1, len(original_list)):\n",
    "            subsets.append([original_list[i], original_list[j], original_list[k]])\n",
    "print(subsets)"
   ]
  },
  {
   "cell_type": "code",
   "execution_count": 19,
   "metadata": {},
   "outputs": [
    {
     "name": "stdout",
     "output_type": "stream",
     "text": [
      "{frozenset({'B', 'R', 'G'}), frozenset({'R'}), frozenset({'B', 'G'}), frozenset({'G'}), frozenset({'B', 'R'}), frozenset({'B'}), frozenset({'R', 'G'}), frozenset()}\n"
     ]
    }
   ],
   "source": [
    "all_subsets = {frozenset(subset) for subset in subsets}\n",
    "print(all_subsets)"
   ]
  },
  {
   "cell_type": "code",
   "execution_count": 26,
   "metadata": {},
   "outputs": [
    {
     "name": "stdout",
     "output_type": "stream",
     "text": [
      "{frozenset({'B', 'R', 'G'}), frozenset({'R'}), frozenset({'B', 'G'}), frozenset({'G'}), frozenset({'B', 'R'}), frozenset({'B'}), frozenset({'R', 'G'}), frozenset()}\n"
     ]
    }
   ],
   "source": [
    "# Alternative way to list all subsets\n",
    "from itertools import combinations\n",
    "\n",
    "original_set = {\"R\", \"G\", \"B\"}\n",
    "\n",
    "subsets = []\n",
    "for i in range(len(original_set)+1):\n",
    "    subsets += list(combinations(original_set, i))\n",
    "    \n",
    "all_subsets = {frozenset(subset) for subset in subsets}\n",
    "print(all_subsets)"
   ]
  },
  {
   "cell_type": "code",
   "execution_count": 46,
   "metadata": {},
   "outputs": [
    {
     "data": {
      "text/plain": [
       "('001', '010', '011')"
      ]
     },
     "execution_count": 46,
     "metadata": {},
     "output_type": "execute_result"
    }
   ],
   "source": [
    "bin(1)[2:].zfill(3), bin(2)[2:].zfill(3), bin(3)[2:].zfill(3)"
   ]
  },
  {
   "cell_type": "code",
   "execution_count": 53,
   "metadata": {},
   "outputs": [
    {
     "name": "stdout",
     "output_type": "stream",
     "text": [
      "   B  R  G\n",
      "0  0  0  0\n",
      "1  0  0  1\n",
      "2  0  1  0\n",
      "3  0  1  1\n",
      "4  1  0  0\n",
      "5  1  0  1\n",
      "6  1  1  0\n",
      "7  1  1  1\n"
     ]
    }
   ],
   "source": [
    "# Enumerate via binary representation\n",
    "import pandas as pd\n",
    "original_set = {\"R\", \"G\", \"B\"}\n",
    "original_list = list(original_set)\n",
    "\n",
    "# Binary representation of 0 to 2^3-1 in Pandas DataFrame\n",
    "\n",
    "n = len(original_set)\n",
    "binary = [list(bin(i)[2:].zfill(n)) for i in range(2**n)]\n",
    "binary_df = pd.DataFrame(binary, columns=original_list)\n",
    "binary_df = binary_df.astype(int)\n",
    "print(binary_df)"
   ]
  },
  {
   "cell_type": "code",
   "execution_count": 55,
   "metadata": {},
   "outputs": [
    {
     "data": {
      "text/html": [
       "<div>\n",
       "<style scoped>\n",
       "    .dataframe tbody tr th:only-of-type {\n",
       "        vertical-align: middle;\n",
       "    }\n",
       "\n",
       "    .dataframe tbody tr th {\n",
       "        vertical-align: top;\n",
       "    }\n",
       "\n",
       "    .dataframe thead th {\n",
       "        text-align: right;\n",
       "    }\n",
       "</style>\n",
       "<table border=\"1\" class=\"dataframe\">\n",
       "  <thead>\n",
       "    <tr style=\"text-align: right;\">\n",
       "      <th></th>\n",
       "      <th>B</th>\n",
       "      <th>R</th>\n",
       "      <th>G</th>\n",
       "    </tr>\n",
       "  </thead>\n",
       "  <tbody>\n",
       "    <tr>\n",
       "      <th>0</th>\n",
       "      <td>False</td>\n",
       "      <td>False</td>\n",
       "      <td>False</td>\n",
       "    </tr>\n",
       "    <tr>\n",
       "      <th>1</th>\n",
       "      <td>False</td>\n",
       "      <td>False</td>\n",
       "      <td>True</td>\n",
       "    </tr>\n",
       "    <tr>\n",
       "      <th>2</th>\n",
       "      <td>False</td>\n",
       "      <td>True</td>\n",
       "      <td>False</td>\n",
       "    </tr>\n",
       "    <tr>\n",
       "      <th>3</th>\n",
       "      <td>False</td>\n",
       "      <td>True</td>\n",
       "      <td>True</td>\n",
       "    </tr>\n",
       "    <tr>\n",
       "      <th>4</th>\n",
       "      <td>True</td>\n",
       "      <td>False</td>\n",
       "      <td>False</td>\n",
       "    </tr>\n",
       "    <tr>\n",
       "      <th>5</th>\n",
       "      <td>True</td>\n",
       "      <td>False</td>\n",
       "      <td>True</td>\n",
       "    </tr>\n",
       "    <tr>\n",
       "      <th>6</th>\n",
       "      <td>True</td>\n",
       "      <td>True</td>\n",
       "      <td>False</td>\n",
       "    </tr>\n",
       "    <tr>\n",
       "      <th>7</th>\n",
       "      <td>True</td>\n",
       "      <td>True</td>\n",
       "      <td>True</td>\n",
       "    </tr>\n",
       "  </tbody>\n",
       "</table>\n",
       "</div>"
      ],
      "text/plain": [
       "       B      R      G\n",
       "0  False  False  False\n",
       "1  False  False   True\n",
       "2  False   True  False\n",
       "3  False   True   True\n",
       "4   True  False  False\n",
       "5   True  False   True\n",
       "6   True   True  False\n",
       "7   True   True   True"
      ]
     },
     "execution_count": 55,
     "metadata": {},
     "output_type": "execute_result"
    }
   ],
   "source": [
    "bool_df = binary_df.astype(bool)\n",
    "bool_df"
   ]
  },
  {
   "cell_type": "code",
   "execution_count": 63,
   "metadata": {},
   "outputs": [],
   "source": [
    "# Create subsets based on the boolean DataFrame\n",
    "subsets = [np.array(original_list)[row] for row in bool_df.values]\n"
   ]
  },
  {
   "cell_type": "code",
   "execution_count": 64,
   "metadata": {},
   "outputs": [
    {
     "data": {
      "text/plain": [
       "[array([], dtype='<U1'),\n",
       " array(['G'], dtype='<U1'),\n",
       " array(['R'], dtype='<U1'),\n",
       " array(['R', 'G'], dtype='<U1'),\n",
       " array(['B'], dtype='<U1'),\n",
       " array(['B', 'G'], dtype='<U1'),\n",
       " array(['B', 'R'], dtype='<U1'),\n",
       " array(['B', 'R', 'G'], dtype='<U1')]"
      ]
     },
     "execution_count": 64,
     "metadata": {},
     "output_type": "execute_result"
    }
   ],
   "source": [
    "subsets"
   ]
  },
  {
   "cell_type": "code",
   "execution_count": null,
   "metadata": {},
   "outputs": [],
   "source": []
  }
 ],
 "metadata": {
  "kernelspec": {
   "display_name": "base",
   "language": "python",
   "name": "python3"
  },
  "language_info": {
   "codemirror_mode": {
    "name": "ipython",
    "version": 3
   },
   "file_extension": ".py",
   "mimetype": "text/x-python",
   "name": "python",
   "nbconvert_exporter": "python",
   "pygments_lexer": "ipython3",
   "version": "3.9.20"
  }
 },
 "nbformat": 4,
 "nbformat_minor": 2
}

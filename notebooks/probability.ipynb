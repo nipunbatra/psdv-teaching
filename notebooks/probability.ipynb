{
  "cells": [
    {
      "cell_type": "raw",
      "metadata": {},
      "source": [
        "---\n",
        "author: Nipun Batra\n",
        "title: Probability Theory Fundamentals\n",
        "description: Introduction to fundamental probability concepts including sample spaces, events, and probability laws with practical Python implementations\n",
        "categories:\n",
        "  - Probability\n",
        "  - Statistics\n",
        "  - Mathematics\n",
        "keywords: [probability, sample space, events, combinatorics, probability law, event space]\n",
        "date: '2025-02-02'\n",
        "badges: true\n",
        "toc: true\n",
        "---"
      ]
    },
    {
      "cell_type": "markdown",
      "source": [
        "# Probability Theory Fundamentals\n",
        "\n",
        "This notebook covers the fundamental concepts of probability theory, including sample spaces, events, and probability laws. We'll explore these concepts through practical examples using Python.\n",
        "\n",
        "## Learning Objectives\n",
        "- Understand sample spaces and events\n",
        "- Learn about combinatorics and power sets\n",
        "- Implement probability laws\n",
        "- Work with discrete probability distributions\n",
        "\n",
        "Let's begin by exploring sample spaces for common probability experiments:"
      ],
      "metadata": {}
    },
    {
      "cell_type": "code",
      "execution_count": 51,
      "metadata": {},
      "outputs": [
        {
          "name": "stdout",
          "output_type": "stream",
          "text": [
            "Sample Space for Coin Toss: ['H' 'T']\n",
            "Sample Space for Dice Throw: [1, 2, 3, 4, 5, 6]\n"
          ]
        }
      ],
      "source": [
        "import numpy as np\n",
        "\n",
        "# Define the sample space and event space for a fair coin\n",
        "sample_space = np.array(['H', 'T'])\n",
        "print(\"Sample Space for Coin Toss:\", sample_space)\n",
        "\n",
        "# Dice throw\n",
        "sample_space_dice = [1, 2, 3, 4, 5, 6]\n",
        "print(\"Sample Space for Dice Throw:\", sample_space_dice)\n"
      ]
    },
    {
      "cell_type": "markdown",
      "source": [
        "## Sample Spaces and Events\n",
        "\n",
        "In probability theory, the **sample space** (\u03a9) is the set of all possible outcomes of an experiment. An **event** is any subset of the sample space.\n",
        "\n",
        "Let's start with simple examples:"
      ],
      "metadata": {}
    },
    {
      "cell_type": "markdown",
      "source": [
        "Next, let's define some specific events:"
      ],
      "metadata": {}
    },
    {
      "cell_type": "markdown",
      "source": [
        "## Combinatorics and Power Sets\n",
        "\n",
        "To understand all possible events, we need to explore combinatorics. The **event space** (\u03c3-algebra) consists of all possible events, which is the power set of the sample space.\n",
        "\n",
        "Let's explore combinations and permutations using Python's `itertools`:"
      ],
      "metadata": {}
    },
    {
      "cell_type": "code",
      "execution_count": 52,
      "metadata": {},
      "outputs": [],
      "source": [
        "# Define the event space for getting a head\n",
        "event_space_head = np.array(['H'])\n",
        "\n",
        "# Define the event space for getting an odd number in a dice throw\n",
        "event_space_odd = [1, 3, 5]\n"
      ]
    },
    {
      "cell_type": "code",
      "execution_count": 53,
      "metadata": {},
      "outputs": [
        {
          "name": "stdout",
          "output_type": "stream",
          "text": [
            "Combinations\n",
            "[(1, 2), (1, 3), (1, 4), (2, 3), (2, 4), (3, 4)]\n"
          ]
        }
      ],
      "source": [
        "# Mini tutorial on itertools\n",
        "from itertools import combinations, permutations, product\n",
        "\n",
        "x = [1, 2, 3, 4]\n",
        "# Combinations\n",
        "print('Combinations')\n",
        "print(list(combinations(x, 2)))\n"
      ]
    },
    {
      "cell_type": "code",
      "execution_count": 54,
      "metadata": {},
      "outputs": [
        {
          "data": {
            "text/plain": [
              "[()]"
            ]
          },
          "execution_count": 54,
          "metadata": {},
          "output_type": "execute_result"
        }
      ],
      "source": [
        "list(combinations(x, 0))"
      ]
    },
    {
      "cell_type": "code",
      "execution_count": 55,
      "metadata": {},
      "outputs": [
        {
          "name": "stdout",
          "output_type": "stream",
          "text": [
            "Combinations of length  0\n",
            "[()]\n",
            "\n",
            "Combinations of length  1\n",
            "[(1,), (2,), (3,), (4,)]\n",
            "\n",
            "Combinations of length  2\n",
            "[(1, 2), (1, 3), (1, 4), (2, 3), (2, 4), (3, 4)]\n",
            "\n",
            "Combinations of length  3\n",
            "[(1, 2, 3), (1, 2, 4), (1, 3, 4), (2, 3, 4)]\n",
            "\n",
            "Combinations of length  4\n",
            "[(1, 2, 3, 4)]\n",
            "\n"
          ]
        }
      ],
      "source": [
        "for i in range(0, len(x)+1):\n",
        "    print(\"Combinations of length \", i)\n",
        "    print(list(combinations(x, i)))\n",
        "    print()"
      ]
    },
    {
      "cell_type": "code",
      "execution_count": 56,
      "metadata": {},
      "outputs": [
        {
          "name": "stdout",
          "output_type": "stream",
          "text": [
            "[(), (1,), (2,), (3,), (4,), (1, 2), (1, 3), (1, 4), (2, 3), (2, 4), (3, 4), (1, 2, 3), (1, 2, 4), (1, 3, 4), (2, 3, 4), (1, 2, 3, 4)]\n"
          ]
        }
      ],
      "source": [
        "# Combine all using chain \n",
        "from itertools import chain\n",
        "powerset = list(chain.from_iterable(combinations(x, i) for i in range(0, len(x)+1)))\n",
        "print(powerset)"
      ]
    },
    {
      "cell_type": "code",
      "execution_count": 62,
      "metadata": {},
      "outputs": [],
      "source": [
        "import itertools\n",
        "# Generate the entire event space (power set)\n",
        "def generate_event_space(sample_space):\n",
        "\n",
        "    \"\"\"\n",
        "    Generates the power set of the sample space, which is the event space.\n",
        "\n",
        "    Args:\n",
        "        sample_space (np.ndarray): The sample space.\n",
        "\n",
        "    Returns:\n",
        "        list: A list of NumPy arrays representing all possible events.\n",
        "    \"\"\"\n",
        "    n = len(sample_space)\n",
        "    # Use itertools to generate all subsets\n",
        "    power_set = list(itertools.chain.from_iterable(\n",
        "        itertools.combinations(sample_space, r) for r in range(n + 1)\n",
        "    ))\n",
        "    # Convert tuples to NumPy arrays\n",
        "    return [np.array(event) for event in power_set]"
      ]
    },
    {
      "cell_type": "code",
      "execution_count": 63,
      "metadata": {},
      "outputs": [
        {
          "data": {
            "text/plain": [
              "[array([], dtype=float64),\n",
              " array(['H'], dtype='<U1'),\n",
              " array(['T'], dtype='<U1'),\n",
              " array(['H', 'T'], dtype='<U1')]"
            ]
          },
          "execution_count": 63,
          "metadata": {},
          "output_type": "execute_result"
        }
      ],
      "source": [
        "generate_event_space(sample_space)"
      ]
    },
    {
      "cell_type": "code",
      "execution_count": 64,
      "metadata": {},
      "outputs": [
        {
          "data": {
            "text/plain": [
              "[1, 2, 3, 4, 5, 6]"
            ]
          },
          "execution_count": 64,
          "metadata": {},
          "output_type": "execute_result"
        }
      ],
      "source": [
        "sample_space_dice"
      ]
    },
    {
      "cell_type": "code",
      "execution_count": 65,
      "metadata": {},
      "outputs": [
        {
          "data": {
            "text/plain": [
              "[array([], dtype=float64),\n",
              " array([1]),\n",
              " array([2]),\n",
              " array([3]),\n",
              " array([4]),\n",
              " array([5]),\n",
              " array([6]),\n",
              " array([1, 2]),\n",
              " array([1, 3]),\n",
              " array([1, 4]),\n",
              " array([1, 5]),\n",
              " array([1, 6]),\n",
              " array([2, 3]),\n",
              " array([2, 4]),\n",
              " array([2, 5]),\n",
              " array([2, 6]),\n",
              " array([3, 4]),\n",
              " array([3, 5]),\n",
              " array([3, 6]),\n",
              " array([4, 5]),\n",
              " array([4, 6]),\n",
              " array([5, 6]),\n",
              " array([1, 2, 3]),\n",
              " array([1, 2, 4]),\n",
              " array([1, 2, 5]),\n",
              " array([1, 2, 6]),\n",
              " array([1, 3, 4]),\n",
              " array([1, 3, 5]),\n",
              " array([1, 3, 6]),\n",
              " array([1, 4, 5]),\n",
              " array([1, 4, 6]),\n",
              " array([1, 5, 6]),\n",
              " array([2, 3, 4]),\n",
              " array([2, 3, 5]),\n",
              " array([2, 3, 6]),\n",
              " array([2, 4, 5]),\n",
              " array([2, 4, 6]),\n",
              " array([2, 5, 6]),\n",
              " array([3, 4, 5]),\n",
              " array([3, 4, 6]),\n",
              " array([3, 5, 6]),\n",
              " array([4, 5, 6]),\n",
              " array([1, 2, 3, 4]),\n",
              " array([1, 2, 3, 5]),\n",
              " array([1, 2, 3, 6]),\n",
              " array([1, 2, 4, 5]),\n",
              " array([1, 2, 4, 6]),\n",
              " array([1, 2, 5, 6]),\n",
              " array([1, 3, 4, 5]),\n",
              " array([1, 3, 4, 6]),\n",
              " array([1, 3, 5, 6]),\n",
              " array([1, 4, 5, 6]),\n",
              " array([2, 3, 4, 5]),\n",
              " array([2, 3, 4, 6]),\n",
              " array([2, 3, 5, 6]),\n",
              " array([2, 4, 5, 6]),\n",
              " array([3, 4, 5, 6]),\n",
              " array([1, 2, 3, 4, 5]),\n",
              " array([1, 2, 3, 4, 6]),\n",
              " array([1, 2, 3, 5, 6]),\n",
              " array([1, 2, 4, 5, 6]),\n",
              " array([1, 3, 4, 5, 6]),\n",
              " array([2, 3, 4, 5, 6]),\n",
              " array([1, 2, 3, 4, 5, 6])]"
            ]
          },
          "execution_count": 65,
          "metadata": {},
          "output_type": "execute_result"
        }
      ],
      "source": [
        "generate_event_space(sample_space_dice)"
      ]
    },
    {
      "cell_type": "code",
      "execution_count": 60,
      "metadata": {},
      "outputs": [],
      "source": [
        "# Probability law function for a fair coin\n",
        "def probability(event, sample_space):\n",
        "    \"\"\"\n",
        "    Computes the probability of an event for a fair coin.\n",
        "\n",
        "    Args:\n",
        "        event (np.ndarray): The event (subset of the sample space).\n",
        "\n",
        "    Returns:\n",
        "        float: The probability of the event.\n",
        "    \"\"\"\n",
        "    # Convert the event into a NumPy array for comparison\n",
        "    event = np.array(event)\n",
        "\n",
        "\n",
        "    # Validate if the event is a subset of the sample space\n",
        "    if not np.all(np.isin(event, sample_space)):\n",
        "        raise ValueError(\"Invalid event. Event must be a subset of the sample space.\")\n",
        "\n",
        "    # Probability logic\n",
        "    if len(event) == 0:         # Empty set\n",
        "        return 0.0\n",
        "    elif np.array_equal(event, sample_space):  # Entire sample space\n",
        "        return 1.0\n",
        "    else:                       # Any single event (like {H} or {T})\n",
        "        return len(event) / len(sample_space)\n"
      ]
    },
    {
      "cell_type": "code",
      "execution_count": 61,
      "metadata": {},
      "outputs": [
        {
          "name": "stdout",
          "output_type": "stream",
          "text": [
            "Event: [] -> Probability: 0.0\n",
            "Event: ['H'] -> Probability: 0.5\n",
            "Event: ['T'] -> Probability: 0.5\n",
            "Event: ['H' 'T'] -> Probability: 1.0\n"
          ]
        }
      ],
      "source": [
        "for event in generate_event_space(sample_space):\n",
        "    print(f\"Event: {event} -> Probability: {probability(event, sample_space)}\")\n",
        "    "
      ]
    },
    {
      "cell_type": "code",
      "execution_count": 50,
      "metadata": {},
      "outputs": [],
      "source": [
        "import pandas as pd\n",
        "# Initialize an empty list to store events and probabilities\n",
        "events_data = []\n",
        "\n",
        "# Generate events and probabilities\n",
        "for event in generate_event_space(sample_space_dice):\n",
        "    event_tuple = tuple(event)\n",
        "    event_prob = probability(event, sample_space_dice)\n",
        "    events_data.append((event_tuple, event_prob))\n",
        "\n",
        "# Create a pandas DataFrame\n",
        "df = pd.DataFrame(events_data, columns=['Event', 'Probability'])"
      ]
    },
    {
      "cell_type": "code",
      "execution_count": 49,
      "metadata": {},
      "outputs": [
        {
          "data": {
            "text/html": [
              "<div>\n",
              "<style scoped>\n",
              "    .dataframe tbody tr th:only-of-type {\n",
              "        vertical-align: middle;\n",
              "    }\n",
              "\n",
              "    .dataframe tbody tr th {\n",
              "        vertical-align: top;\n",
              "    }\n",
              "\n",
              "    .dataframe thead th {\n",
              "        text-align: right;\n",
              "    }\n",
              "</style>\n",
              "<table border=\"1\" class=\"dataframe\">\n",
              "  <thead>\n",
              "    <tr style=\"text-align: right;\">\n",
              "      <th></th>\n",
              "      <th>Event</th>\n",
              "      <th>Probability</th>\n",
              "    </tr>\n",
              "  </thead>\n",
              "  <tbody>\n",
              "    <tr>\n",
              "      <th>0</th>\n",
              "      <td>()</td>\n",
              "      <td>0.000000</td>\n",
              "    </tr>\n",
              "    <tr>\n",
              "      <th>1</th>\n",
              "      <td>(1,)</td>\n",
              "      <td>0.166667</td>\n",
              "    </tr>\n",
              "    <tr>\n",
              "      <th>2</th>\n",
              "      <td>(2,)</td>\n",
              "      <td>0.166667</td>\n",
              "    </tr>\n",
              "    <tr>\n",
              "      <th>3</th>\n",
              "      <td>(3,)</td>\n",
              "      <td>0.166667</td>\n",
              "    </tr>\n",
              "    <tr>\n",
              "      <th>4</th>\n",
              "      <td>(4,)</td>\n",
              "      <td>0.166667</td>\n",
              "    </tr>\n",
              "    <tr>\n",
              "      <th>...</th>\n",
              "      <td>...</td>\n",
              "      <td>...</td>\n",
              "    </tr>\n",
              "    <tr>\n",
              "      <th>59</th>\n",
              "      <td>(1, 2, 3, 5, 6)</td>\n",
              "      <td>0.833333</td>\n",
              "    </tr>\n",
              "    <tr>\n",
              "      <th>60</th>\n",
              "      <td>(1, 2, 4, 5, 6)</td>\n",
              "      <td>0.833333</td>\n",
              "    </tr>\n",
              "    <tr>\n",
              "      <th>61</th>\n",
              "      <td>(1, 3, 4, 5, 6)</td>\n",
              "      <td>0.833333</td>\n",
              "    </tr>\n",
              "    <tr>\n",
              "      <th>62</th>\n",
              "      <td>(2, 3, 4, 5, 6)</td>\n",
              "      <td>0.833333</td>\n",
              "    </tr>\n",
              "    <tr>\n",
              "      <th>63</th>\n",
              "      <td>(1, 2, 3, 4, 5, 6)</td>\n",
              "      <td>1.000000</td>\n",
              "    </tr>\n",
              "  </tbody>\n",
              "</table>\n",
              "<p>64 rows \u00d7 2 columns</p>\n",
              "</div>"
            ],
            "text/plain": [
              "                 Event  Probability\n",
              "0                   ()     0.000000\n",
              "1                 (1,)     0.166667\n",
              "2                 (2,)     0.166667\n",
              "3                 (3,)     0.166667\n",
              "4                 (4,)     0.166667\n",
              "..                 ...          ...\n",
              "59     (1, 2, 3, 5, 6)     0.833333\n",
              "60     (1, 2, 4, 5, 6)     0.833333\n",
              "61     (1, 3, 4, 5, 6)     0.833333\n",
              "62     (2, 3, 4, 5, 6)     0.833333\n",
              "63  (1, 2, 3, 4, 5, 6)     1.000000\n",
              "\n",
              "[64 rows x 2 columns]"
            ]
          },
          "execution_count": 49,
          "metadata": {},
          "output_type": "execute_result"
        }
      ],
      "source": [
        "df"
      ]
    }
  ],
  "metadata": {
    "kernelspec": {
      "display_name": "base",
      "language": "python",
      "name": "python3"
    },
    "language_info": {
      "codemirror_mode": {
        "name": "ipython",
        "version": 3
      },
      "file_extension": ".py",
      "mimetype": "text/x-python",
      "name": "python",
      "nbconvert_exporter": "python",
      "pygments_lexer": "ipython3",
      "version": "3.12.7"
    }
  },
  "nbformat": 4,
  "nbformat_minor": 2
}